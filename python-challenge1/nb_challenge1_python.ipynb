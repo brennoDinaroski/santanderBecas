{
 "cells": [
  {
   "cell_type": "markdown",
   "metadata": {},
   "source": [
    "# Challenge 1 - Python\n",
    "\n",
    "Fala, pessoal! Sejam muito bem-vindos ao 1º Challenge de Python disponibilizado no Let’s Code Pass! Você deve estar acompanhando as Short Classes de Web e, agora, é hora de colocar seus novos conhecimentos em prática! Vamos nessa?! 🚀\n",
    "\n",
    "Antes de tudo, é válido destacar que por se tratar de um desafio, é essencial que você troque uma ideia com outras pessoas, caso sinta dificuldades, ou mesmo possa utilizar do nosso servidor do Discord para enviar suas dúvidas. Ah, claro, você também pode ficar de olho nas dúvidas de outras pessoas para ajudá-las. Tudo isso vai te ajudar a avançar cada vez mais rumo ao seu objetivo!\n",
    "\n",
    "## Conhecendo o Challenge\n",
    "\n",
    "### Criptografia via método de substituição (Twist)\n",
    "\n",
    "Criptografia é uma área da Ciência da Computação que estuda os métodos de comunicação secreta que transformam uma mensagem (**textoplano**) em uma mensagem cifrada (**textocifrado**), de forma que apenas o real receptor da mensagem seja capaz de restaurar o seu conteúdo original.\n",
    "\n",
    "O ato de transformar uma mensagem em uma mensagem cifrada é chamado de **codificação** e o ato contrário é chamado de **decodificação**. Um método bastante simples de codificação é o **Método Twist**, que requer que ambos: remetente e receptor combinem uma **chave secreta k**, que deve ser um inteiro positivo (1, 2, 3, 4, ...).\n",
    "\n",
    "O **Método Twist** utiliza quatro listas: **textoplano**, **textocifrado**, **codigoplano** e **cifradocodigo**, sendo  **textoplano** e **textocifrado** listas de caracteres e **codigoplano** e **cifradocodigo** listas de inteiros. Todas as listas têm tamanho **n**, onde **n** é o tamanho da mensagem a ser codificada (as listas são iniciadas na posição zero de forma que seus elementos são numerados de 0 a n – 1). Para este problema, as mensagens apenas conterão letras minúsculas, pontos e “barra baixa” (underscore, representando espaço em branco).\n",
    "\n",
    "A mensagem a ser codificada é armazenada na lista **textoplano**. Dada a **chave k**, a codificação é feita da  seguinte forma: \n",
    "\n",
    "1. Primeiro as letras em **textoplano** são convertidas em códigos inteiros que são armazenados em **codigoplano**. A conversão é feita da seguinte forma:\n",
    "<center>\n",
    "'_' = 0, 'a' = 1, 'b' = 2, ..., 'z' = 26 e '.' = 27\n",
    "</center>\n",
    "2. Depois, cada código em **codigoplano** é convertido em um código codificado em **cifradocodigo** através da seguinte fórmula:\n",
    "\n",
    "Para todo i de 0 a n – 1,\n",
    "$$\n",
    "cifradocodigo[i] = (codigoplano[(k * i) mod n] – i) mod 28\n",
    "$$\n",
    "\n",
    "A decodificação é realizada de maneira análoga (usando-se um inverso multiplicativo modular), devendo-se fazer\n",
    "$$\n",
    "codigoplano[(k * i) mod n] = (cifradocodigo[i] + i) mod 28\n",
    "$$\n",
    "Aqui x mod y é o resto da divisão de x por y; por exemplo,\n",
    "<center>\n",
    "\n",
    "$3 mod 7 = 3$ \n",
    "\n",
    "$22 mod 8 = 6$ \n",
    "\n",
    "$-1 mod 28 = 27$\n",
    "</center>\n",
    "\n",
    "Você pode usar o operador `%` do Python como sendo $mod$.\n",
    "\n",
    "3.  Por último, os códigos obtidos em **cifradocodigo** são convertidos novamente em letras (pela mesma regra descrita anteriormente e detalhada na dica 1 abaixo) e são armazenadas em **textocifrado**. Esse método funciona apenas quando **n** e **k** são primos entre si; essa propriedade é necessária para garantir que a mensagem decodificada corresponderá à mensagem original (não se preocupem em garantir que eles sejam primos).\n",
    "\n",
    "A codificação pelo métodos Twist das mensagens `'ola'` e `'wxyz'`, ambas usando a chave 5, são ilustradas na tabela a seguir:\n",
    "\n",
    "- **exemplo 1 : 'ola'**\n",
    "\n",
    "| Vetor | [0] | [1] | [2] |\n",
    "| --- | --- | --- | --- |\n",
    "| textoplano | 'o' | 'l' | 'a' |\n",
    "| codigoplano | 15 | 12 | 1 |\n",
    "| cifradocodigo | 15 | 0 | 10 |\n",
    "| textocifrado | 'o' | '_' | 'j' |\n",
    "\n",
    "- **exemplo 2 : 'wxyz'**\n",
    "\n",
    "| Vetor | [0] | [1] | [2] | [3] |\n",
    "| --- | --- | --- | --- | --- |\n",
    "| textoplano | 'w' | 'x' | 'y' | 'z' |\n",
    "| codigoplano | 23 | 24 | 25 | 26 |\n",
    "| cifradocodigo | 23 | 23 | 23 | 23 |\n",
    "| textocifrado | 'w'| 'w' | 'w' | 'w' |\n",
    "\n",
    "**Dicas sobre manipulação de caracteres**\n",
    "\n",
    "Em Python pode-se utilizar duas funções pré-definidas para manipular caracteres e seu código numérico correspondente.\n",
    "\n",
    "Por exemplo, o caractere/dígito ‘0’ tem código 48, o caractere/dígito ‘1’ tem código 49 e assim por diante (esses valores vêm do “velho” sistema de codificação [ASCII](https://www.asciitable.com/) – American Standard Code for Interchange, que usava 8 bits). \n",
    "\n",
    "Então pode-se usar as funções `ord(char)` e `chr(int)`, a primeira, dado o caractere **C**, devolve seu código e a segunda, dada um inteiro **N** devolve o caractere cujo código é **N**. Experimente o seguinte código em Python:\n",
    "\n",
    "```python\n",
    "def converteInt2Char(k): # k deve ser inteiro`\n",
    "\n",
    "    return chr(k) # devolve o caractere associado a k`\n",
    "\n",
    "def converteChar2Int(c): # c deve ser caractere`\n",
    "\n",
    "    return ord(c) # devolve o código inteiro associado ao caractere c`\n",
    "\n",
    "print(f\"N | converteInt2Char(N)\\n48 | {converteInt2Char(48)}\\n49 | {converteInt2Char(49)}\\nC | converteChar2Int(C)\\n'0'| {converteChar2Int('0')}\\n'1'| {converteChar2Int('1')}\")\n",
    "```\n",
    "\n",
    "\n",
    "> 💡 Você pode solucionar o Challenge sem uso das funções `ord()` e `chr()`, se preferir.\n",
    "\n",
    "\n",
    "## Requisitos Funcionais\n",
    "\n",
    "Sua tarefa é escrever um programa que codifica e decodifica uma mensagem usando **Método Twist**. Inicialmente o usuário escolhe a opção 0 (codifica) ou 1 (decodifica), sendo:\n",
    "\n",
    "- Para a opção 0: o usuário deve, em seguida, digitar o valor **k** da chave e depois uma frase (que será codificada);\n",
    "- Para a opção 1: o usuário deve, em seguida, digitar o valor **k** da chave e depois uma frase (que será decodificada).\n",
    "\n",
    "Por exemplo, se o usuário digitar:\n",
    "\n",
    "`1`\n",
    "\n",
    "`5` \n",
    "\n",
    "`'o_j'`\n",
    "\n",
    "Seu programa deve invocar a função de decodificação (com os parâmetros adequados e devolver `'ola'` (correspondendo ao texto decodificado). Então o programa deve imprimir o texto original (decodificando) `'ola'`. Se, por outro lado, o usuário digitar:\n",
    "\n",
    " > `0`\n",
    "\n",
    " > `5`\n",
    "\n",
    " > `'wxyz'`\n",
    "\n",
    " o programa deve imprimir `'wwww'`.\n",
    "\n",
    "## Entrada e Saída de Dados\n",
    "\n",
    "A entrada será via teclado. Primeiramente deve-se digitar a opção (0 ou 1), depois digita-se a chave **k** e por último a mensagem (a ser codificada ou decodificada).\n",
    "\n",
    " Pode-se supor que o tamanho da mensagem **n** esteja entre 1 e 70 caracteres. A chave **k** será um inteiro positivo menor ou igual a 300 que seja primo com o tamanho **n**, ou seja, mdc(k, n) = 1. Abaixo apresentamos 3 exemplos de codificações/decodificações, para as chaves 5, 11 e 29.\n",
    "\n",
    "| Chave | Frase original | Frase codificada |\n",
    "| --- | --- | --- |\n",
    "| 11 | cachorro. | cbmowxbkg |\n",
    "| 29 | espero_que_funcione. | edcnkjyzmjrpianvbyzo |\n",
    "\n",
    "<br>\n",
    "\n",
    "> 💡 Os códigos dos caracteres são sequências, sendo `97` o código do `‘a’`, `98` o código do `‘b’` e > assim por diante. Neste Challenge pode-se supor que serão digitados apenas letras minúsculas (logo > entre `'a'` e `'z`), ponto `'.'` ou “barra baixa” `'_'`.\n",
    "\n",
    "\n",
    "Abaixo ilustraremos como seriam as mensagens de seu programa para o primeiro exemplo da tabela acima. Atenção, tente copiar precisamente as mensagens como aparecem, pois caracteres errados podem produzir erros.\n",
    "\n",
    "**1. Exemplo de codificação.**\n",
    "```python\n",
    "Digite 0 para codificar e 1 para decodificar: 0\n",
    "Digite a chave: 29\n",
    "Digite a mensagem: espero_que_funcione.\n",
    "Frase final: edcnkjyzmjrpianvbyzo\n",
    "```\n",
    "\n",
    "**2. Exemplo de decodificação.**\n",
    "```python\n",
    "Digite 0 para codificar e 1 para decodificar: 1\n",
    "Digite a chave: 29\n",
    "Digite a mensagem: edcnkjyzmjrpianvbyzo\n",
    "Frase final: espero_que_funcione.\n",
    "```\n",
    "\n",
    "## Referência\n",
    "\n",
    "Baseado em um trabalho pedido em cursos da USP pelo Departamento de Ciência da Computação (DCC)."
   ]
  },
  {
   "cell_type": "code",
   "execution_count": 4,
   "metadata": {},
   "outputs": [],
   "source": [
    "# Imprimir todos valores da célula, não somente o último\n",
    "from IPython.core.interactiveshell import InteractiveShell\n",
    "\n",
    "InteractiveShell.ast_node_interactivity = \"all\""
   ]
  },
  {
   "cell_type": "markdown",
   "metadata": {},
   "source": [
    "# Solução - uso de chr() e ord()"
   ]
  },
  {
   "cell_type": "markdown",
   "metadata": {},
   "source": [
    "Entendendo o uso das funções `ord()` e `chr()`."
   ]
  },
  {
   "cell_type": "code",
   "execution_count": 1,
   "metadata": {},
   "outputs": [],
   "source": [
    "def converteInt2Char(k): # k deve ser inteiro`\n",
    "\n",
    "    return chr(k) # devolve o caractere associado a k`\n",
    "\n",
    "def converteChar2Int(c): # c deve ser caractere`\n",
    "\n",
    "    return ord(c) # devolve o código inteiro associado ao caractere c`"
   ]
  },
  {
   "cell_type": "code",
   "execution_count": 6,
   "metadata": {},
   "outputs": [
    {
     "name": "stdout",
     "output_type": "stream",
     "text": [
      "_ = 95\n",
      ". = 46\n",
      "a = 97\n",
      "b = 98\n",
      "c = 99\n",
      "z = 122\n"
     ]
    }
   ],
   "source": [
    "print(f\"_ = {converteChar2Int('_')}\")\n",
    "print(f\". = {converteChar2Int('.')}\")\n",
    "print(f\"a = {converteChar2Int('a')}\")\n",
    "print(f\"b = {converteChar2Int('b')}\")\n",
    "print(f\"c = {converteChar2Int('c')}\")\n",
    "print('...')\n",
    "print(f\"z = {converteChar2Int('z')}\")\n"
   ]
  },
  {
   "cell_type": "code",
   "execution_count": 27,
   "metadata": {},
   "outputs": [
    {
     "name": "stdout",
     "output_type": "stream",
     "text": [
      "95 = _\n",
      "46 = .\n",
      "97 = a\n",
      "98 = b\n",
      "99 = c\n",
      "...\n",
      "122 = z\n"
     ]
    }
   ],
   "source": [
    "def converteInt2Char(numero): # numero deve ser inteiro`\n",
    "\n",
    "    return chr(numero) # devolve o caractere associado ao numero`\n",
    "\n",
    "print(f\"95 = {converteInt2Char(95)}\")\n",
    "print(f\"46 = {converteInt2Char(46)}\")\n",
    "print(f\"97 = {converteInt2Char(97)}\")\n",
    "print(f\"98 = {converteInt2Char(98)}\")\n",
    "print(f\"99 = {converteInt2Char(99)}\")\n",
    "print('...')\n",
    "print(f\"122 = {converteInt2Char(122)}\")"
   ]
  },
  {
   "cell_type": "markdown",
   "metadata": {},
   "source": [
    "Mas segundo o enunciado, a correspondência deve ser:\n",
    "\n",
    "<center>\n",
    "'_' = 0, 'a' = 1, 'b' = 2, ..., 'z' = 26 e '.' = 27\n",
    "</center>\n",
    "\n",
    "Então é preciso fazer uma correção do valor retornado:"
   ]
  },
  {
   "cell_type": "code",
   "execution_count": 11,
   "metadata": {},
   "outputs": [
    {
     "name": "stdout",
     "output_type": "stream",
     "text": [
      "_ = 0\n",
      ". = 27\n",
      "a = 1\n",
      "b = 2\n",
      "c = 3\n",
      "...\n",
      "z = 26\n"
     ]
    }
   ],
   "source": [
    "def converte_char_int(char):\n",
    "    if char == '.':\n",
    "        return 27\n",
    "    elif char == '_':\n",
    "        return 0\n",
    "    return ord(char) - 96\n",
    "\n",
    "print(f\"_ = {converte_char_int('_')}\")\n",
    "print(f\". = {converte_char_int('.')}\")\n",
    "print(f\"a = {converte_char_int('a')}\")\n",
    "print(f\"b = {converte_char_int('b')}\")\n",
    "print(f\"c = {converte_char_int('c')}\")\n",
    "print('...')\n",
    "print(f\"z = {converte_char_int('z')}\")"
   ]
  },
  {
   "cell_type": "code",
   "execution_count": 29,
   "metadata": {},
   "outputs": [
    {
     "name": "stdout",
     "output_type": "stream",
     "text": [
      "0 = _\n",
      "27 = .\n",
      "1 = a\n",
      "2 = b\n",
      "3 = c\n",
      "...\n",
      "26 = z\n"
     ]
    }
   ],
   "source": [
    "def converte_int_char(inteiro):\n",
    "    if inteiro == 27:\n",
    "        return '.'\n",
    "    elif inteiro == 0:\n",
    "        return '_'\n",
    "    return chr(inteiro + 96) \n",
    "\n",
    "print(f\"0 = {converte_int_char(0)}\")\n",
    "print(f\"27 = {converte_int_char(27)}\")\n",
    "print(f\"1 = {converte_int_char(1)}\")\n",
    "print(f\"2 = {converte_int_char(2)}\")\n",
    "print(f\"3 = {converte_int_char(3)}\")\n",
    "print('...')\n",
    "print(f\"26 = {converte_int_char(26)}\")"
   ]
  },
  {
   "cell_type": "markdown",
   "metadata": {},
   "source": [
    "## Codificação"
   ]
  },
  {
   "cell_type": "markdown",
   "metadata": {},
   "source": [
    "**Exemplo k = 5**\n",
    "\n",
    "| Vetor | [0] | [1] | [2] |\n",
    "| --- | --- | --- | --- |\n",
    "| textoplano | 'o' | 'l' | 'a' |\n",
    "| codigoplano | 15 | 12 | 1 |\n",
    "| cifradocodigo | 15 | 0 | 10 |\n",
    "| textocifrado | 'o' | '_' | 'j' |\n"
   ]
  },
  {
   "cell_type": "code",
   "execution_count": null,
   "metadata": {},
   "outputs": [],
   "source": [
    "textoplano = 'ola'\n",
    "chave_k = 5"
   ]
  },
  {
   "cell_type": "markdown",
   "metadata": {},
   "source": [
    "Montar a lista `textoplano`"
   ]
  },
  {
   "cell_type": "code",
   "execution_count": 48,
   "metadata": {},
   "outputs": [
    {
     "data": {
      "text/plain": [
       "['o', 'l', 'a']"
      ]
     },
     "execution_count": 48,
     "metadata": {},
     "output_type": "execute_result"
    }
   ],
   "source": [
    "lista_textoplano = list('ola')\n",
    "lista_textoplano"
   ]
  },
  {
   "cell_type": "markdown",
   "metadata": {},
   "source": [
    "Codificar cada caractere de textoplano em código"
   ]
  },
  {
   "cell_type": "code",
   "execution_count": 46,
   "metadata": {},
   "outputs": [
    {
     "data": {
      "text/plain": [
       "[15, 12, 1]"
      ]
     },
     "execution_count": 46,
     "metadata": {},
     "output_type": "execute_result"
    }
   ],
   "source": [
    "# versão 1 com uso de loop for\n",
    "codigoplano = []\n",
    "for caractere in lista_textoplano:\n",
    "    codigoplano.append(converte_char_int(caractere))\n",
    "    \n",
    "codigoplano"
   ]
  },
  {
   "cell_type": "code",
   "execution_count": 47,
   "metadata": {},
   "outputs": [
    {
     "data": {
      "text/plain": [
       "[15, 12, 1]"
      ]
     },
     "execution_count": 47,
     "metadata": {},
     "output_type": "execute_result"
    }
   ],
   "source": [
    "# versão 2 com uso de list comprehension\n",
    "codigoplano = [converte_char_int(caractere) for caractere in lista_textoplano]\n",
    "codigoplano"
   ]
  },
  {
   "cell_type": "markdown",
   "metadata": {},
   "source": [
    "Conversão de `codigoplano` em `cifradocodigo`"
   ]
  },
  {
   "cell_type": "code",
   "execution_count": 24,
   "metadata": {},
   "outputs": [
    {
     "data": {
      "text/plain": [
       "[None, None, None]"
      ]
     },
     "execution_count": 24,
     "metadata": {},
     "output_type": "execute_result"
    }
   ],
   "source": [
    "# construção de lista com dimensão suficiente para guardar os valores de codigoplano\n",
    "n_tam_msg = len(codigoplano)\n",
    "cifradocodigo = [None]*n_tam_msg\n",
    "cifradocodigo[: 10]"
   ]
  },
  {
   "cell_type": "code",
   "execution_count": 25,
   "metadata": {},
   "outputs": [
    {
     "data": {
      "text/plain": [
       "[15, 0, 10]"
      ]
     },
     "execution_count": 25,
     "metadata": {},
     "output_type": "execute_result"
    }
   ],
   "source": [
    "for i in range(n_tam_msg):\n",
    "    cifradocodigo[i] = (codigoplano[(chave_k * i) % n_tam_msg] - i) % 28\n",
    "    \n",
    "cifradocodigo"
   ]
  },
  {
   "cell_type": "markdown",
   "metadata": {},
   "source": [
    "Conversão de `cifradocodigo` em `textocifrado`"
   ]
  },
  {
   "cell_type": "code",
   "execution_count": 31,
   "metadata": {},
   "outputs": [
    {
     "data": {
      "text/plain": [
       "['o', '_', 'j']"
      ]
     },
     "execution_count": 31,
     "metadata": {},
     "output_type": "execute_result"
    },
    {
     "data": {
      "text/plain": [
       "'o_j'"
      ]
     },
     "execution_count": 31,
     "metadata": {},
     "output_type": "execute_result"
    }
   ],
   "source": [
    "lista_textocifrado = [converte_int_char(cod) for cod in cifradocodigo]\n",
    "lista_textocifrado\n",
    "\n",
    "textocifrado = ''.join(lista_textocifrado)\n",
    "textocifrado"
   ]
  },
  {
   "cell_type": "markdown",
   "metadata": {},
   "source": [
    "## Decodificação"
   ]
  },
  {
   "cell_type": "markdown",
   "metadata": {},
   "source": [
    "**Exemplo k = 5**\n",
    "\n",
    "| Vetor | [0] | [1] | [2] |\n",
    "| --- | --- | --- | --- |\n",
    "| textoplano | 'o' | 'l' | 'a' |\n",
    "| codigoplano | 15 | 12 | 1 |\n",
    "| cifradocodigo | 15 | 0 | 10 |\n",
    "| textocifrado | 'o' | '_' | 'j' |"
   ]
  },
  {
   "cell_type": "code",
   "execution_count": 37,
   "metadata": {},
   "outputs": [],
   "source": [
    "textocifrado = 'o_j'\n",
    "chave_k = 5"
   ]
  },
  {
   "cell_type": "markdown",
   "metadata": {},
   "source": [
    "Converter `textocifrado` em lista"
   ]
  },
  {
   "cell_type": "code",
   "execution_count": 38,
   "metadata": {},
   "outputs": [
    {
     "data": {
      "text/plain": [
       "['o', '_', 'j']"
      ]
     },
     "execution_count": 38,
     "metadata": {},
     "output_type": "execute_result"
    }
   ],
   "source": [
    "lista_textocifrado = list(textocifrado)\n",
    "lista_textocifrado"
   ]
  },
  {
   "cell_type": "markdown",
   "metadata": {},
   "source": [
    "Converter `lista_textocifrado` em `cifradocodigo`"
   ]
  },
  {
   "cell_type": "code",
   "execution_count": 39,
   "metadata": {},
   "outputs": [
    {
     "data": {
      "text/plain": [
       "[15, 0, 10]"
      ]
     },
     "execution_count": 39,
     "metadata": {},
     "output_type": "execute_result"
    }
   ],
   "source": [
    "# versão 2 com uso de list comprehension\n",
    "cifradocodigo = [converte_char_int(caractere) for caractere in lista_textocifrado]\n",
    "cifradocodigo"
   ]
  },
  {
   "cell_type": "markdown",
   "metadata": {},
   "source": [
    "Converter `cifradocodigo` em `codigoplano`"
   ]
  },
  {
   "cell_type": "code",
   "execution_count": 40,
   "metadata": {},
   "outputs": [
    {
     "data": {
      "text/plain": [
       "[None, None, None]"
      ]
     },
     "execution_count": 40,
     "metadata": {},
     "output_type": "execute_result"
    }
   ],
   "source": [
    "# construção de lista com dimensão suficiente para guardar os valores de cifradocodigo\n",
    "n_tam_msg = len(cifradocodigo)\n",
    "codigoplano = [None]*n_tam_msg\n",
    "codigoplano"
   ]
  },
  {
   "cell_type": "code",
   "execution_count": 41,
   "metadata": {},
   "outputs": [
    {
     "data": {
      "text/plain": [
       "[15, 12, 1]"
      ]
     },
     "execution_count": 41,
     "metadata": {},
     "output_type": "execute_result"
    }
   ],
   "source": [
    "for i in range(n_tam_msg):\n",
    "    codigoplano[(chave_k * i) % n_tam_msg] = (cifradocodigo[i] + i) % 28\n",
    "    \n",
    "codigoplano"
   ]
  },
  {
   "cell_type": "markdown",
   "metadata": {},
   "source": [
    "Converter `codigoplano` em `textoplano`"
   ]
  },
  {
   "cell_type": "code",
   "execution_count": 43,
   "metadata": {},
   "outputs": [
    {
     "data": {
      "text/plain": [
       "['o', 'l', 'a']"
      ]
     },
     "execution_count": 43,
     "metadata": {},
     "output_type": "execute_result"
    }
   ],
   "source": [
    "lista_textoplano = [converte_int_char(cod) for cod in codigoplano]\n",
    "lista_textoplano"
   ]
  },
  {
   "cell_type": "code",
   "execution_count": 44,
   "metadata": {},
   "outputs": [
    {
     "data": {
      "text/plain": [
       "'ola'"
      ]
     },
     "execution_count": 44,
     "metadata": {},
     "output_type": "execute_result"
    }
   ],
   "source": [
    "textoplano = ''.join(lista_textoplano)\n",
    "textoplano"
   ]
  }
 ],
 "metadata": {
  "interpreter": {
   "hash": "3d536ceee5838dd42851cf32b43d922eee13546d285c4374e489f5361fd15b8b"
  },
  "kernelspec": {
   "display_name": "Python 3.6.13 ('lets-data')",
   "language": "python",
   "name": "python3"
  },
  "language_info": {
   "codemirror_mode": {
    "name": "ipython",
    "version": 3
   },
   "file_extension": ".py",
   "mimetype": "text/x-python",
   "name": "python",
   "nbconvert_exporter": "python",
   "pygments_lexer": "ipython3",
   "version": "3.6.13"
  },
  "orig_nbformat": 4
 },
 "nbformat": 4,
 "nbformat_minor": 2
}
